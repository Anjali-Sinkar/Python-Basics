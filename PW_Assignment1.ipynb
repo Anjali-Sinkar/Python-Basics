{
  "nbformat": 4,
  "nbformat_minor": 0,
  "metadata": {
    "colab": {
      "provenance": []
    },
    "kernelspec": {
      "name": "python3",
      "display_name": "Python 3"
    },
    "language_info": {
      "name": "python"
    }
  },
  "cells": [
    {
      "cell_type": "markdown",
      "source": [
        "### **PYTHON BASICS QUESTION**"
      ],
      "metadata": {
        "id": "CjVdoZoUwbLg"
      }
    },
    {
      "cell_type": "markdown",
      "source": [
        "# **1 What is Python, and why is it popular ?**\n",
        "\n",
        "\n",
        "---\n",
        "\n",
        "**Python is a high level, interpreted programming language which was created by Guido Van Rossum and first released in 1991.**\n",
        "\n",
        "**It is popular for :**\n",
        "\n",
        "\n",
        "*   Readability (simple syntax like English)\n",
        "*   Versatile and Powerful\n",
        "*   Extensive Libraries\n",
        "*   Scalability\n",
        "*   Strong Community\n",
        "*   Integration Capabilities\n",
        "*   Open Source and Cost Effective"
      ],
      "metadata": {
        "id": "hIlOtmi6GIPv"
      }
    },
    {
      "cell_type": "markdown",
      "source": [
        "# **2 What is an interpreter in Python ?**\n",
        "\n",
        "---\n",
        "\n",
        "An interpreter in Python is a program that reads and executes Python code line by line.\n",
        "\n",
        "Working :\n",
        "\n",
        "\n",
        "*   We will write a Python code.\n",
        "*   Interpreter will read its first line then will convert into machine language and execute that line of code.\n",
        "*   It will go to next line and then repeat same process till the code is completely executed."
      ],
      "metadata": {
        "id": "mqCVIpwFMq2k"
      }
    },
    {
      "cell_type": "markdown",
      "source": [
        "# **3 What are pre-defined keywords in Python ?**\n",
        "\n",
        "\n",
        "---\n",
        "\n",
        "**Pre-defined keywords in Python are reserved words that have special meaning and have special purpose.**\n",
        "\n",
        "**These words are part of the Python language syntax and are used to define the structure and rules of the code.**\n",
        "\n",
        "**Some examples of Python keywords : if, else, def, import, etc**"
      ],
      "metadata": {
        "id": "zoOVpwguTvpQ"
      }
    },
    {
      "cell_type": "markdown",
      "source": [
        "# **4  Can keywords be used as variable names ?**\n",
        "\n",
        "\n",
        "---\n",
        "\n",
        "No, keywords cannot be used as variable names in Python.\n",
        "\n",
        "Because keywords have special meanings in the language. Using them as variable names would confuse the interpreter."
      ],
      "metadata": {
        "id": "HV-34dluWtkS"
      }
    },
    {
      "cell_type": "markdown",
      "source": [
        "# **5 What is mutability in Python ?**\n",
        "\n",
        "\n",
        "---\n",
        "\n",
        "Mutability in Python means whether a Python object can be modified after its creation."
      ],
      "metadata": {
        "id": "cmGaoWo8biXc"
      }
    },
    {
      "cell_type": "markdown",
      "source": [
        "# **6 Why are lists mutable, but tuples are immutable ?**\n",
        "\n",
        "---\n",
        "\n",
        "The difference is by design based on their purpose and use cases.\n",
        "\n",
        "Lists : Mutable\n",
        "\n",
        "\n",
        "*   Designed for flexibility\n",
        "*   Can add, remove, or change items\n",
        "*   Used when data needs to be change\n",
        "\n",
        "\n",
        "Tuples : Immutable\n",
        "*   Designed for staility\n",
        "*   Data is fixed after creation\n",
        "*   Used for constant values, like coordinates, configurations, etc."
      ],
      "metadata": {
        "id": "TvMg84xkcdDq"
      }
    },
    {
      "cell_type": "markdown",
      "source": [
        "# **7 What is the difference between “==” and “is” operators in Python ?**\n",
        "\n",
        "\n",
        "---\n",
        "\n",
        "== Operator :  \n",
        "\n",
        "*   It checks for eqality of values\n",
        "*   It compares values.\n",
        "\n",
        "\n",
        "is Operator :\n",
        "\n",
        "*   It checks for identity (same object in memory).\n",
        "*   It compares memory location."
      ],
      "metadata": {
        "id": "crEw9mSMeAfe"
      }
    },
    {
      "cell_type": "markdown",
      "source": [
        "# **8 What are logical operators in Python ?**\n",
        "\n",
        "---\n",
        "\n",
        "Logical operators are used to combine conditional statements and return a boolean value (True or False).\n",
        "\n",
        "and → all conditions must be true\n",
        "\n",
        "or → at least one condition must be true\n",
        "\n",
        "not → flips the result"
      ],
      "metadata": {
        "id": "SQG_SoEWggMC"
      }
    },
    {
      "cell_type": "markdown",
      "source": [
        "# **9 What is type casting in Python ?**\n",
        "\n",
        "---\n",
        "\n",
        "Type casting in Python means converting a value from one data type to another.\n",
        "\n",
        "Types of Type Casting:\n",
        "1. Implicit Type Casting\n",
        "\n",
        "   -> Done automatically by Python\n",
        "\n",
        "2. Explicit Type Casting\n",
        "\n",
        "    ->Done manually by the programmer using functions like int(), float(), str(), etc."
      ],
      "metadata": {
        "id": "-_0861VkjFA1"
      }
    },
    {
      "cell_type": "markdown",
      "source": [
        "#**10 What is the difference between implicit and explicit type casting?**\n",
        "\n",
        "---\n",
        "\n",
        "1] Implicit type casting is done automatically by Python when it converts one data type to another during an operation.\n",
        "\n",
        "For example, if you add an integer and a float, Python will convert the integer to a float automatically to avoid data loss.\n",
        "\n",
        "2] Explicit type casting is done manually by the programmer using functions like int(), float(), or str().\n",
        "\n",
        "This is used when you want to convert one data type into another intentionally."
      ],
      "metadata": {
        "id": "1vFGMfykmLkF"
      }
    },
    {
      "cell_type": "markdown",
      "source": [
        "# **11 What is the purpose of conditional statements in Python ?**\n",
        "\n",
        "---\n",
        "\n",
        "Conditional statements allow a program to make decisions and execute certain blocks of code based on whether a condition is true or false.\n",
        "\n",
        "They help control the flow of the program and are used to handle different situations based on different inputs or data.\n",
        "\n",
        "Common conditional statements in Python are if, if-elif, and if-else, nested if-else."
      ],
      "metadata": {
        "id": "uvGpJJSOthiu"
      }
    },
    {
      "cell_type": "markdown",
      "source": [
        "# **12 How does the elif statement work ?**\n",
        "\n",
        "---\n",
        "\n",
        "* The elif statement stands for \"else if\".\n",
        "*It is used after an if statement to check multiple conditions.\n",
        "*If the first if condition is false, Python checks the elif condition.\n",
        "*If it's true, the corresponding block of code runs.\n",
        "*If none of the if or elif conditions are true, the else block runs (if present).\n",
        "*This helps in checking several possible conditions one by one."
      ],
      "metadata": {
        "id": "T-Pp8vl8uJMj"
      }
    },
    {
      "cell_type": "markdown",
      "source": [
        "# **13 What is the difference between for and while loops ?**\n",
        "\n",
        "---\n",
        "\n",
        "1. **A for loop** is used when you know in advance how many times you want to repeat a block of code. It is commonly used to iterate over sequences like lists, ranges, or strings.\n",
        "\n",
        "\n",
        "2. **A while loop** is used when you want to repeat a block of code as long as a certain condition is true. It is useful when the number of iterations is not known beforehand, and depends on dynamic conditions during runtime."
      ],
      "metadata": {
        "id": "IK0MjyREuhPR"
      }
    },
    {
      "cell_type": "markdown",
      "source": [
        "# **14 Describe a scenario where a while loop is more suitable than a for loop.**\n",
        "\n",
        "---\n",
        "\n",
        "* A while loop is more suitable in situations where you do not know how many times the loop should run.\n",
        "* For example, if we are writing a program that asks the user to enter the correct password, we do not know how many attempts they will need.\n",
        "* In this case, a while loop is ideal because it can keep running until the correct input is provided."
      ],
      "metadata": {
        "id": "WQcbg_Ycu-r_"
      }
    },
    {
      "cell_type": "markdown",
      "source": [
        "### **PRACTICAL QUESTIONS**"
      ],
      "metadata": {
        "id": "iUfhf3pKwrFw"
      }
    },
    {
      "cell_type": "code",
      "source": [
        "#Write a Python program to print \"Hello, World!\n",
        "\n",
        "print(\"Hello, World!\")"
      ],
      "metadata": {
        "colab": {
          "base_uri": "https://localhost:8080/"
        },
        "id": "ABC9d2mcVi9V",
        "outputId": "7eb0800b-d2f6-4985-8516-e723ca47746d"
      },
      "execution_count": null,
      "outputs": [
        {
          "output_type": "stream",
          "name": "stdout",
          "text": [
            "Hello, World!\n"
          ]
        }
      ]
    },
    {
      "cell_type": "code",
      "source": [
        "#Write a Python program that displays your name and age\n",
        "\n",
        "name = input(\"Enter Your Name : \")\n",
        "age = int(input(\"Enter Your Age : \"))"
      ],
      "metadata": {
        "colab": {
          "base_uri": "https://localhost:8080/"
        },
        "id": "Or-VMThXxVa6",
        "outputId": "d8b2defc-6251-46d9-9aef-55975fcf2803"
      },
      "execution_count": null,
      "outputs": [
        {
          "name": "stdout",
          "output_type": "stream",
          "text": [
            "Enter Your Name : Kick\n",
            "Enter Your Age : 20\n"
          ]
        }
      ]
    },
    {
      "cell_type": "code",
      "source": [
        "from ast import keyword\n",
        "#Write code to print all the pre-defined keywords in Python using the keyword library\n",
        "\n",
        "help('keywords')"
      ],
      "metadata": {
        "colab": {
          "base_uri": "https://localhost:8080/"
        },
        "id": "-55xlDbBxqla",
        "outputId": "3113c8ff-e521-4388-8911-2bbef3ab2bfa"
      },
      "execution_count": null,
      "outputs": [
        {
          "output_type": "stream",
          "name": "stdout",
          "text": [
            "\n",
            "Here is a list of the Python keywords.  Enter any keyword to get more help.\n",
            "\n",
            "False               class               from                or\n",
            "None                continue            global              pass\n",
            "True                def                 if                  raise\n",
            "and                 del                 import              return\n",
            "as                  elif                in                  try\n",
            "assert              else                is                  while\n",
            "async               except              lambda              with\n",
            "await               finally             nonlocal            yield\n",
            "break               for                 not                 \n",
            "\n"
          ]
        }
      ]
    },
    {
      "cell_type": "code",
      "source": [
        "#Write a program that checks if a given word is a Python keyword\n",
        "\n",
        "import keyword\n",
        "word = input(\"Enter a word: \")\n",
        "if keyword.iskeyword(word):\n",
        "    print(word, \"is a Python keyword.\")\n",
        "else:\n",
        "    print(word, \"is not a Python keyword.\")"
      ],
      "metadata": {
        "colab": {
          "base_uri": "https://localhost:8080/"
        },
        "id": "cXx7Md_TyC7h",
        "outputId": "5154e7e3-bb52-465f-c821-327c5a7d7883"
      },
      "execution_count": null,
      "outputs": [
        {
          "output_type": "stream",
          "name": "stdout",
          "text": [
            "Enter a word: import\n",
            "import is a Python keyword.\n"
          ]
        }
      ]
    },
    {
      "cell_type": "code",
      "source": [
        "#Create a list and tuple in Python, and demonstrate how attempting to change an element works differently for each.\n",
        "\n",
        "# Creating a list\n",
        "my_list = [1, 2.5, 'Kick', True]\n",
        "print(my_list)\n",
        "\n",
        "my_list[1] = 2\n",
        "print(my_list)\n",
        "\n",
        "my_list.append(5)\n",
        "print(my_list)"
      ],
      "metadata": {
        "id": "pvz-Suamy8mX",
        "colab": {
          "base_uri": "https://localhost:8080/"
        },
        "outputId": "0cfee492-578d-457b-fe14-bbe0d519b90b"
      },
      "execution_count": 4,
      "outputs": [
        {
          "output_type": "stream",
          "name": "stdout",
          "text": [
            "[1, 2.5, 'Kick', True]\n",
            "[1, 2, 'Kick', True]\n",
            "[1, 2, 'Kick', True, 5]\n"
          ]
        }
      ]
    },
    {
      "cell_type": "code",
      "source": [
        "# Creating a tuple\n",
        "\n",
        "my_tuple = (10, 20, 'Kick')\n",
        "print(my_tuple)\n",
        "\n",
        "my_tuple[0] = 100\n",
        "#print(my_tuple)"
      ],
      "metadata": {
        "id": "2-yK1wgph922",
        "colab": {
          "base_uri": "https://localhost:8080/",
          "height": 211
        },
        "outputId": "f5ca9b88-5148-44d7-eb5e-4c2dc0fdcbc0"
      },
      "execution_count": 8,
      "outputs": [
        {
          "output_type": "stream",
          "name": "stdout",
          "text": [
            "(10, 20, 'Kick')\n"
          ]
        },
        {
          "output_type": "error",
          "ename": "TypeError",
          "evalue": "'tuple' object does not support item assignment",
          "traceback": [
            "\u001b[0;31m---------------------------------------------------------------------------\u001b[0m",
            "\u001b[0;31mTypeError\u001b[0m                                 Traceback (most recent call last)",
            "\u001b[0;32m<ipython-input-8-fec6a548cded>\u001b[0m in \u001b[0;36m<cell line: 0>\u001b[0;34m()\u001b[0m\n\u001b[1;32m      4\u001b[0m \u001b[0mprint\u001b[0m\u001b[0;34m(\u001b[0m\u001b[0mmy_tuple\u001b[0m\u001b[0;34m)\u001b[0m\u001b[0;34m\u001b[0m\u001b[0;34m\u001b[0m\u001b[0m\n\u001b[1;32m      5\u001b[0m \u001b[0;34m\u001b[0m\u001b[0m\n\u001b[0;32m----> 6\u001b[0;31m \u001b[0mmy_tuple\u001b[0m\u001b[0;34m[\u001b[0m\u001b[0;36m0\u001b[0m\u001b[0;34m]\u001b[0m \u001b[0;34m=\u001b[0m \u001b[0;36m100\u001b[0m\u001b[0;34m\u001b[0m\u001b[0;34m\u001b[0m\u001b[0m\n\u001b[0m\u001b[1;32m      7\u001b[0m \u001b[0mprint\u001b[0m\u001b[0;34m(\u001b[0m\u001b[0mmy_tuple\u001b[0m\u001b[0;34m)\u001b[0m\u001b[0;34m\u001b[0m\u001b[0;34m\u001b[0m\u001b[0m\n",
            "\u001b[0;31mTypeError\u001b[0m: 'tuple' object does not support item assignment"
          ]
        }
      ]
    },
    {
      "cell_type": "code",
      "source": [
        "# Write a function to demonstrate the behavior of mutable and immutable arguments.\n",
        "\n",
        "def modify_values(a, b):\n",
        "    a += 10        # Immutable (int)\n",
        "    b.append(4)     # Mutable (list)\n",
        "    print(\"Inside function:\", a, b)\n",
        "\n",
        "x = 5\n",
        "y = [1, 2, 3]\n",
        "modify_values(x, y)\n",
        "print(\"Outside function:\", x, y)"
      ],
      "metadata": {
        "colab": {
          "base_uri": "https://localhost:8080/"
        },
        "id": "LwuncVhsjhE0",
        "outputId": "24e00a4e-69bf-4033-88e8-9a71e8eb3607"
      },
      "execution_count": 9,
      "outputs": [
        {
          "output_type": "stream",
          "name": "stdout",
          "text": [
            "Inside function: 15 [1, 2, 3, 4]\n",
            "Outside function: 5 [1, 2, 3, 4]\n"
          ]
        }
      ]
    },
    {
      "cell_type": "code",
      "source": [
        "#  Write a program that performs basic arithmetic operations on two user-input numbers.\n",
        "\n",
        "num_1 = int(input(\"Enter first number : \"))\n",
        "num_2 = int(input(\"Enter second number : \"))\n",
        "\n",
        "print(\"\\nSum = \",num_1+num_2)\n",
        "print(\"\\nSubtraction = \",num_1-num_2)\n",
        "print(\"\\nMultiplication = \",num_1*num_2)\n",
        "print(\"\\nDivision = \",num_1/num_2)\n",
        "print(\"\\nFloor Operation = \",num_1//num_2)\n",
        "print(\"\\nModulus Operation = \",num_1%num_2)\n",
        "print(\"\\nPower = \",num_1**num_2)"
      ],
      "metadata": {
        "colab": {
          "base_uri": "https://localhost:8080/"
        },
        "id": "73tzrkmvk6YE",
        "outputId": "e5d640cd-4b74-45ab-cb61-d45cd3dae7ec"
      },
      "execution_count": 17,
      "outputs": [
        {
          "output_type": "stream",
          "name": "stdout",
          "text": [
            "Enter first number : 25\n",
            "Enter second number : 5\n",
            "\n",
            "Sum =  30\n",
            "\n",
            "Subtraction =  20\n",
            "\n",
            "Multiplication =  125\n",
            "\n",
            "Division =  5.0\n",
            "\n",
            "Floor Operation =  5\n",
            "\n",
            "Modulus Operation =  0\n",
            "\n",
            "Power =  9765625\n"
          ]
        }
      ]
    },
    {
      "cell_type": "code",
      "source": [
        "# Write a program to demonstrate the use of logical operators.\n",
        "\n",
        "a = 9\n",
        "b = 7\n",
        "\n",
        "print(\"and operator\")\n",
        "print(a>7 and b<9)\n",
        "print(a<7 and b<9)\n",
        "\n",
        "print(\"\\nor operator\")\n",
        "print(a>7 or b<9)\n",
        "print(a<7 or b>9)\n",
        "\n",
        "print(\"\\nnot operator\")\n",
        "print(not a>b)\n",
        "print(not a<b)"
      ],
      "metadata": {
        "colab": {
          "base_uri": "https://localhost:8080/"
        },
        "id": "6ElWW4CWljoj",
        "outputId": "8f6577f0-fb14-4eb8-ba5b-6a2525b0da71"
      },
      "execution_count": 18,
      "outputs": [
        {
          "output_type": "stream",
          "name": "stdout",
          "text": [
            "and operator\n",
            "True\n",
            "False\n",
            "\n",
            "or operator\n",
            "True\n",
            "False\n",
            "\n",
            "not operator\n",
            "False\n",
            "True\n"
          ]
        }
      ]
    },
    {
      "cell_type": "code",
      "source": [
        "# Write a Python program to convert user input from string to integer, float, and boolean types.\n",
        "\n",
        "a = input(\"Enter a value : \")\n",
        "print(\"\\nString to Integer : \",int(a))\n",
        "print(\"\\nString to Float : \",float(a))\n",
        "print(\"\\nString to Boolean : \",bool(a))"
      ],
      "metadata": {
        "colab": {
          "base_uri": "https://localhost:8080/"
        },
        "id": "ntEHji-9njw2",
        "outputId": "1f477c97-2b04-4cc4-8ded-f8a38565cff7"
      },
      "execution_count": 20,
      "outputs": [
        {
          "output_type": "stream",
          "name": "stdout",
          "text": [
            "Enter a value : 9\n",
            "\n",
            "String to Integer :  9\n",
            "\n",
            "String to Float :  9.0\n",
            "\n",
            "String to Boolean :  True\n"
          ]
        }
      ]
    },
    {
      "cell_type": "code",
      "source": [
        "# Write code to demonstrate type casting with list elements\n",
        "\n",
        "str_list = ['1', '2', '3']\n",
        "print(\"Original list:\", str_list)\n",
        "int_list = list(map(int, str_list))\n",
        "print(\"Converted list:\", int_list)"
      ],
      "metadata": {
        "colab": {
          "base_uri": "https://localhost:8080/"
        },
        "id": "FoOjINhppWDU",
        "outputId": "f9ded9a3-a512-44bc-b936-0615647a8c7b"
      },
      "execution_count": 22,
      "outputs": [
        {
          "output_type": "stream",
          "name": "stdout",
          "text": [
            "Original list: ['1', '2', '3']\n",
            "Converted list: [1, 2, 3]\n"
          ]
        }
      ]
    },
    {
      "cell_type": "code",
      "source": [
        "# Write a program that checks if a number is positive, negative, or zero\n",
        "\n",
        "num = float(input(\"Enter a number: \"))\n",
        "if num > 0:\n",
        "    print(\"Positive\")\n",
        "elif num < 0:\n",
        "    print(\"Negative\")\n",
        "else:\n",
        "    print(\"Zero\")"
      ],
      "metadata": {
        "colab": {
          "base_uri": "https://localhost:8080/"
        },
        "id": "beveKrVdrJ2a",
        "outputId": "081de472-48e5-4a64-995f-302a71a8325a"
      },
      "execution_count": 26,
      "outputs": [
        {
          "output_type": "stream",
          "name": "stdout",
          "text": [
            "Enter a number: -5\n",
            "Negative\n"
          ]
        }
      ]
    },
    {
      "cell_type": "code",
      "source": [
        "# Write a for loop to print numbers from 1 to 10.\n",
        "\n",
        "for i in range(1, 11):\n",
        "    print(i)"
      ],
      "metadata": {
        "colab": {
          "base_uri": "https://localhost:8080/"
        },
        "id": "sEvXEV8Mrbgp",
        "outputId": "b6523482-2e1d-45c1-f9b0-732f7d6da442"
      },
      "execution_count": 27,
      "outputs": [
        {
          "output_type": "stream",
          "name": "stdout",
          "text": [
            "1\n",
            "2\n",
            "3\n",
            "4\n",
            "5\n",
            "6\n",
            "7\n",
            "8\n",
            "9\n",
            "10\n"
          ]
        }
      ]
    },
    {
      "cell_type": "code",
      "source": [
        "#  Write a Python program to find the sum of all even numbers between 1 and 50.\n",
        "\n",
        "total = 0\n",
        "for i in range(2, 51, 2):\n",
        "    total += i\n",
        "print(\"Sum of even numbers:\", total)"
      ],
      "metadata": {
        "colab": {
          "base_uri": "https://localhost:8080/"
        },
        "id": "H8ZzxDiJrsyJ",
        "outputId": "0f83dba5-e523-48db-80f3-e1750147d7f4"
      },
      "execution_count": 28,
      "outputs": [
        {
          "output_type": "stream",
          "name": "stdout",
          "text": [
            "Sum of even numbers: 650\n"
          ]
        }
      ]
    },
    {
      "cell_type": "code",
      "source": [
        "# Write a program to reverse a string using a while loop.\n",
        "\n",
        "text = input(\"Enter a string: \")\n",
        "i = len(text) - 1\n",
        "reverse = ''\n",
        "while i >= 0:\n",
        "    reverse += text[i]\n",
        "    i -= 1\n",
        "print(\"Reversed string:\", reverse)"
      ],
      "metadata": {
        "colab": {
          "base_uri": "https://localhost:8080/"
        },
        "id": "Q6Z52LVCr4ms",
        "outputId": "f38dbae1-467f-4b9c-bb46-67056c4efb35"
      },
      "execution_count": 29,
      "outputs": [
        {
          "output_type": "stream",
          "name": "stdout",
          "text": [
            "Enter a string: I am a student\n",
            "Reversed string: tneduts a ma I\n"
          ]
        }
      ]
    },
    {
      "cell_type": "code",
      "source": [
        "#  Write a Python program to calculate the factorial of a number provided by the user using a while loop.\n",
        "\n",
        "num = int(input(\"Enter a number: \"))\n",
        "factorial = 1\n",
        "while num > 1:\n",
        "    factorial *= num\n",
        "    num -= 1\n",
        "print(\"Factorial:\", factorial)"
      ],
      "metadata": {
        "colab": {
          "base_uri": "https://localhost:8080/"
        },
        "id": "FQJCgYPzsIys",
        "outputId": "7c96d5c5-9f48-467b-ae9b-09f625e6fb9a"
      },
      "execution_count": 30,
      "outputs": [
        {
          "output_type": "stream",
          "name": "stdout",
          "text": [
            "Enter a number: 7\n",
            "Factorial: 5040\n"
          ]
        }
      ]
    }
  ]
}